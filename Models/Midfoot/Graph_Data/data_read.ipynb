{
 "cells": [
  {
   "cell_type": "code",
   "execution_count": 2,
   "metadata": {},
   "outputs": [],
   "source": [
    "import pandas as pd\n",
    "import numpy as np\n",
    "import os"
   ]
  },
  {
   "cell_type": "code",
   "execution_count": 10,
   "metadata": {},
   "outputs": [],
   "source": [
    "def convert_to_csv(file_path):\n",
    "    # Get the base name of the file without the extension\n",
    "    base_name = os.path.splitext(os.path.basename(file_path))[0]\n",
    "\n",
    "    # Create the output file name\n",
    "    output_file_name = base_name + '.csv'\n",
    "\n",
    "    # Read the R data file into a DataFrame\n",
    "    df = pd.read_csv(file_path, delim_whitespace=True, header=None, comment='#')\n",
    "\n",
    "    # Rename the columns\n",
    "    df.columns = ['time', base_name]\n",
    "\n",
    "    # Write the DataFrame to a CSV file\n",
    "    df.to_csv(output_file_name, index=False)\n",
    "\n",
    "    # Return the DataFrame\n",
    "    return df"
   ]
  },
  {
   "cell_type": "code",
   "execution_count": 11,
   "metadata": {},
   "outputs": [],
   "source": [
    "Longmidfoot0 = convert_to_csv(\"Longmidfoot0\")\n",
    "Longmidfoot3 = convert_to_csv(\"Longmidfoot3\")\n",
    "Longmidfoot7 = convert_to_csv(\"Longmidfoot7\")\n",
    "\n",
    "# Concatenate the second columns of the DataFrames\n",
    "Longmidfoot = pd.concat([Longmidfoot0.iloc[:, 1], Longmidfoot3.iloc[:, 1], Longmidfoot7.iloc[:, 1]], axis=1)\n",
    "\n",
    "# Add the first column of the Longmidfoot0 DataFrame to the beginning of the Longmidfoot DataFrame\n",
    "Longmidfoot = pd.concat([Longmidfoot0.iloc[:, 0], Longmidfoot], axis=1)\n",
    "\n",
    "# If you want to keep the original column names, you can do:\n",
    "Longmidfoot.columns = [Longmidfoot0.columns[0]] + list(Longmidfoot.columns[1:])\n",
    "\n",
    "Longmidfoot.to_csv('Longmidfoot.csv', index=False)"
   ]
  },
  {
   "cell_type": "code",
   "execution_count": 12,
   "metadata": {},
   "outputs": [],
   "source": [
    "Shortmidfoot0 = convert_to_csv(\"Shortmidfoot0\")\n",
    "Shortmidfoot3 = convert_to_csv(\"Shortmidfoot3\")\n",
    "Shortmidfoot5 = convert_to_csv(\"Shortmidfoot5\")\n",
    "Shortmidfoot7 = convert_to_csv(\"Shortmidfoot7\")\n",
    "Shortmidfoot9 = convert_to_csv(\"Shortmidfoot9\")\n",
    "\n",
    "# Concatenate the second columns of the DataFrames\n",
    "Shortmidfoot = pd.concat([Shortmidfoot0.iloc[:, 1], Shortmidfoot3.iloc[:, 1], Shortmidfoot7.iloc[:, 1]], axis=1)\n",
    "\n",
    "# Add the first column of the Longmidfoot0 DataFrame to the beginning of the Longmidfoot DataFrame\n",
    "Shortmidfoot = pd.concat([Shortmidfoot0.iloc[:, 0], Shortmidfoot], axis=1)\n",
    "\n",
    "# If you want to keep the original column names, you can do:\n",
    "Shortmidfoot.columns = [Shortmidfoot0.columns[0]] + list(Shortmidfoot.columns[1:])\n",
    "\n",
    "Shortmidfoot.to_csv('Shortmidfoot.csv', index=False)"
   ]
  },
  {
   "cell_type": "code",
   "execution_count": null,
   "metadata": {},
   "outputs": [],
   "source": []
  }
 ],
 "metadata": {
  "kernelspec": {
   "display_name": "base",
   "language": "python",
   "name": "python3"
  },
  "language_info": {
   "codemirror_mode": {
    "name": "ipython",
    "version": 3
   },
   "file_extension": ".py",
   "mimetype": "text/x-python",
   "name": "python",
   "nbconvert_exporter": "python",
   "pygments_lexer": "ipython3",
   "version": "3.10.9"
  }
 },
 "nbformat": 4,
 "nbformat_minor": 2
}
